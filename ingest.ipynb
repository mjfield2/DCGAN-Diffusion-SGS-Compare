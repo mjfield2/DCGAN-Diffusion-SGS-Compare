{
 "cells": [
  {
   "cell_type": "code",
   "execution_count": 1,
   "id": "b6e0b936-dbb3-41b1-9db5-3e92be442bff",
   "metadata": {},
   "outputs": [],
   "source": [
    "from PIL import Image\n",
    "import os\n",
    "import pandas as pd\n",
    "import numpy as np\n",
    "from pathlib import Path"
   ]
  },
  {
   "cell_type": "markdown",
   "id": "f8f9c8c0-7f11-4248-9b97-a9db1407a1dc",
   "metadata": {},
   "source": [
    "# Ingest raw data contained in raw_data.zip"
   ]
  },
  {
   "cell_type": "code",
   "execution_count": 2,
   "id": "87035c5a-74bb-4d6d-b738-836023ba7fcd",
   "metadata": {},
   "outputs": [],
   "source": [
    "sgsdir = Path('raw_data/SGS')\n",
    "dcgandir = Path('raw_data/256_dcgan_cp_150/256_dcgan_cp_150')\n",
    "updated_gandir = Path('raw_data/updated_gan')\n",
    "diffusiondir = Path('raw_data/256_sim_cp_10_100.csv')\n",
    "\n",
    "\n",
    "coord = pd.read_csv(Path('raw_data/coords_256.csv')).values"
   ]
  },
  {
   "cell_type": "code",
   "execution_count": 3,
   "id": "65ed945a-ef11-4524-8f7a-8ba42b3ac777",
   "metadata": {},
   "outputs": [],
   "source": [
    "#SGS - 50 realizations\n",
    "# sgs = np.empty((len(os.listdir(sgsdir)), 256, 256))\n",
    "\n",
    "# for i, name in enumerate(os.listdir(sgsdir)):\n",
    "#     sgs[i] = pd.read_parquet(sgsdir+\"/\"+name).values.reshape(300,300)[:256, :256]"
   ]
  },
  {
   "cell_type": "code",
   "execution_count": 4,
   "id": "42e92dc2-c631-4a2d-ada6-76dcd7e30780",
   "metadata": {},
   "outputs": [
    {
     "data": {
      "text/plain": [
       "(100, 256, 256)"
      ]
     },
     "execution_count": 4,
     "metadata": {},
     "output_type": "execute_result"
    }
   ],
   "source": [
    "def ImgData(filename):\n",
    "\n",
    "    imgs = np.empty((len(os.listdir(filename)), 256**2))\n",
    "\n",
    "    for i, name in enumerate(os.listdir(filename)):\n",
    "        path = os.path.join(filename, name)\n",
    "        image = Image.open(path).convert('L')\n",
    "        image = np.array(image, dtype=np.float32) / 255.0\n",
    "\n",
    "        imgs[i] = image.reshape(256**2)\n",
    "\n",
    "    return imgs\n",
    "\n",
    "sgs = ImgData(sgsdir)\n",
    "sgs = sgs.reshape((sgs.shape[0], 256, 256))\n",
    "sgs.shape"
   ]
  },
  {
   "cell_type": "code",
   "execution_count": 5,
   "id": "ea0f3b0f-693a-4424-9054-beb80cc8b5f7",
   "metadata": {},
   "outputs": [],
   "source": [
    "sgs = (sgs + 1)/2"
   ]
  },
  {
   "cell_type": "code",
   "execution_count": 6,
   "id": "61ddeaaa-00e7-41f0-835f-3d03b6c88fd4",
   "metadata": {},
   "outputs": [
    {
     "data": {
      "text/plain": [
       "((65536, 2), (100, 256, 256))"
      ]
     },
     "execution_count": 6,
     "metadata": {},
     "output_type": "execute_result"
    }
   ],
   "source": [
    "coord.shape, sgs.shape"
   ]
  },
  {
   "cell_type": "code",
   "execution_count": 7,
   "id": "8c96dbc0-80d0-4e78-bb42-5341ef8819f8",
   "metadata": {},
   "outputs": [
    {
     "data": {
      "text/plain": [
       "((256, 256), (256, 256))"
      ]
     },
     "execution_count": 7,
     "metadata": {},
     "output_type": "execute_result"
    }
   ],
   "source": [
    "x_uniq = np.unique(coord[:, 0])\n",
    "y_uniq = np.unique(coord[:, 1])\n",
    "\n",
    "xx, yy = np.meshgrid(x_uniq, y_uniq)\n",
    "\n",
    "xx.shape, yy.shape"
   ]
  },
  {
   "cell_type": "code",
   "execution_count": 8,
   "id": "2f1b8d8a-90ea-41ca-8bbb-d45a2850a5b5",
   "metadata": {},
   "outputs": [
    {
     "data": {
      "text/plain": [
       "(500.0, 500.0)"
      ]
     },
     "execution_count": 8,
     "metadata": {},
     "output_type": "execute_result"
    }
   ],
   "source": [
    "x_uniq[1]-x_uniq[0], y_uniq[1]-y_uniq[0]"
   ]
  },
  {
   "cell_type": "markdown",
   "id": "7b1b94f5-5ef5-4b72-8bb7-148dd794ae42",
   "metadata": {},
   "source": [
    "## DCGAN"
   ]
  },
  {
   "cell_type": "code",
   "execution_count": 9,
   "id": "ee2703e6-6552-43e6-802a-a22876069dc7",
   "metadata": {
    "scrolled": true
   },
   "outputs": [
    {
     "data": {
      "text/plain": [
       "(100, 256, 256)"
      ]
     },
     "execution_count": 9,
     "metadata": {},
     "output_type": "execute_result"
    }
   ],
   "source": [
    "# DCGAN - 100 samples\n",
    "dcgan = np.empty((len(os.listdir(dcgandir)), 256, 256))\n",
    "\n",
    "for i, name in enumerate(os.listdir(dcgandir)):\n",
    "        path = os.path.join(dcgandir, name)\n",
    "        image = Image.open(path).convert('L')\n",
    "        image_normalized = np.array(image, dtype=np.float32) / 255.0\n",
    "        \n",
    "        \n",
    "        dcgan[i] = image_normalized\n",
    "\n",
    "dcgan.shape"
   ]
  },
  {
   "cell_type": "markdown",
   "id": "b2865725-67aa-46b5-8f2d-ea2baa429a95",
   "metadata": {},
   "source": [
    "# Updated GAN"
   ]
  },
  {
   "cell_type": "code",
   "execution_count": 10,
   "id": "5a54213e-9039-4550-baec-734c2df89658",
   "metadata": {},
   "outputs": [
    {
     "data": {
      "text/plain": [
       "(100, 256, 256)"
      ]
     },
     "execution_count": 10,
     "metadata": {},
     "output_type": "execute_result"
    }
   ],
   "source": [
    "# DCGAN - 100 samples\n",
    "gan = np.empty((len(os.listdir(updated_gandir)), 256, 256))\n",
    "\n",
    "for i, name in enumerate(os.listdir(updated_gandir)):\n",
    "        path = os.path.join(updated_gandir, name)\n",
    "        image = Image.open(path).convert('L')\n",
    "        image_normalized = np.array(image, dtype=np.float32) / 255.0\n",
    "        \n",
    "        \n",
    "        gan[i] = image_normalized\n",
    "\n",
    "gan.shape"
   ]
  },
  {
   "cell_type": "markdown",
   "id": "448958c4-f1e5-4a6b-b27c-67d098f5d852",
   "metadata": {},
   "source": [
    "## Diffusion"
   ]
  },
  {
   "cell_type": "code",
   "execution_count": 11,
   "id": "e70b644c-8168-4af4-a61d-41792ac598cb",
   "metadata": {},
   "outputs": [
    {
     "data": {
      "text/plain": [
       "(100, 256, 256)"
      ]
     },
     "execution_count": 11,
     "metadata": {},
     "output_type": "execute_result"
    }
   ],
   "source": [
    "# Diffusion - 50 samples (randomly sampled from 100 original -- too big to push to repo!)\n",
    "\n",
    "diffusion = pd.read_csv(diffusiondir, header = None)\n",
    "diffusion = diffusion.to_numpy().reshape((100, 256, 256))\n",
    "diffusion.shape"
   ]
  },
  {
   "cell_type": "code",
   "execution_count": 12,
   "id": "2f3ec5cd-9035-4793-9252-308883395cb0",
   "metadata": {},
   "outputs": [],
   "source": [
    "dmin = -665.37\n",
    "dmax = 636.33\n",
    "\n",
    "def rescale_range(x, a, b):\n",
    "    return a+((x-np.nanmin(x))*(b-a))/(np.nanmax(x)-np.nanmin(x))\n",
    "\n",
    "sgs = rescale_range(sgs, dmin, dmax)\n",
    "diffusion = rescale_range(diffusion, dmin, dmax)\n",
    "dcgan = rescale_range(dcgan, dmin, dmax)\n",
    "gan = rescale_range(gan, dmin, dmax)"
   ]
  },
  {
   "cell_type": "code",
   "execution_count": 13,
   "id": "096f5c7f-a865-46e7-84a9-93a76102716d",
   "metadata": {},
   "outputs": [],
   "source": [
    "np.savez_compressed('data.npz', sgs=sgs, diffusion=diffusion, dcgan=dcgan, gan=gan, xx=xx, yy=yy)"
   ]
  },
  {
   "cell_type": "markdown",
   "id": "4949f34a-019c-468a-9053-79aede301c09",
   "metadata": {},
   "source": [
    "# Make variograms"
   ]
  },
  {
   "cell_type": "code",
   "execution_count": 14,
   "id": "f09b43ab-0eb6-4af1-8100-073ad2c1db66",
   "metadata": {},
   "outputs": [],
   "source": [
    "import multiprocessing as mp\n",
    "import skgstat as skg"
   ]
  },
  {
   "cell_type": "code",
   "execution_count": 42,
   "id": "6f819daa-63b9-4664-8b31-c6c70e6a4339",
   "metadata": {},
   "outputs": [],
   "source": [
    "maxlag = 50000\n",
    "n_lags = 30\n",
    "downsample = 0.1\n",
    "\n",
    "sgs_inputs = []\n",
    "diffusion_inputs = []\n",
    "dcgan_inputs = []\n",
    "gan_inputs = []\n",
    "\n",
    "kwargs = {'bin_func' : 'even', 'n_lags' : n_lags, 'maxlag' : maxlag, 'normalize' : True, 'samples' : downsample}\n",
    "\n",
    "for i in range(100):\n",
    "    sgs_inputs.append([coord, sgs[i].flatten(), kwargs])\n",
    "    diffusion_inputs.append([coord, diffusion[i].flatten(), kwargs])\n",
    "    dcgan_inputs.append([coord, dcgan[i].flatten(), kwargs])\n",
    "    gan_inputs.append([coord, gan[i].flatten(), kwargs])"
   ]
  },
  {
   "cell_type": "code",
   "execution_count": 43,
   "id": "3b9126e7-ccd7-4be8-86e4-98ea31a35937",
   "metadata": {},
   "outputs": [],
   "source": [
    "import variogram\n",
    "import importlib\n",
    "importlib.reload(variogram)\n",
    "\n",
    "from variogram import experimental_variogram"
   ]
  },
  {
   "cell_type": "code",
   "execution_count": 44,
   "id": "8e479476-358f-429d-84e5-31324a301245",
   "metadata": {},
   "outputs": [
    {
     "name": "stdout",
     "output_type": "stream",
     "text": [
      "CPU times: total: 1.27 s\n",
      "Wall time: 13min 59s\n"
     ]
    }
   ],
   "source": [
    "%%time\n",
    "\n",
    "if __name__ == '__main__':\n",
    "    with mp.Pool(8) as pool:\n",
    "        result_sgs = pool.starmap(experimental_variogram, sgs_inputs)\n",
    "        sgs_var = np.array(result_sgs)\n",
    "\n",
    "        result_diff = pool.starmap(experimental_variogram, diffusion_inputs)\n",
    "        diffusion_var = np.array(result_diff)\n",
    "\n",
    "        result_dcgan = pool.starmap(experimental_variogram, dcgan_inputs)\n",
    "        dcgan_var = np.array(result_dcgan)\n",
    "\n",
    "        result_gan = pool.starmap(experimental_variogram, gan_inputs)\n",
    "        gan_var = np.array(result_gan)"
   ]
  },
  {
   "cell_type": "code",
   "execution_count": 49,
   "id": "4a9964c4-39e5-4221-96a3-8bed99174d96",
   "metadata": {},
   "outputs": [],
   "source": [
    "vario = skg.Variogram(coord, sgs[0].flatten(), **kwargs)"
   ]
  },
  {
   "cell_type": "code",
   "execution_count": 50,
   "id": "4d617030-16ee-43bf-9595-918cfa71977f",
   "metadata": {},
   "outputs": [],
   "source": [
    "np.savez_compressed('variograms.npz', sgs=sgs_var, diffusion=diffusion_var, dcgan=dcgan_var, gan=gan_var, bins=vario.bins)"
   ]
  },
  {
   "cell_type": "code",
   "execution_count": 39,
   "id": "f7f31bce-c30c-4ea6-85e8-c5c8b32f4bfa",
   "metadata": {},
   "outputs": [
    {
     "data": {
      "text/plain": [
       "(100, 30)"
      ]
     },
     "execution_count": 39,
     "metadata": {},
     "output_type": "execute_result"
    }
   ],
   "source": [
    "sgs_var = np.array(result)\n",
    "sgs_var.shape"
   ]
  },
  {
   "cell_type": "markdown",
   "id": "dfb2debc-8fb6-4c70-8fd5-7e08a76bb01c",
   "metadata": {},
   "source": [
    "### Diffusion"
   ]
  },
  {
   "cell_type": "code",
   "execution_count": 36,
   "id": "3aa7c62d-8c0e-4875-8936-1fd9c967dbdc",
   "metadata": {},
   "outputs": [
    {
     "name": "stdout",
     "output_type": "stream",
     "text": [
      "CPU times: total: 375 ms\n",
      "Wall time: 3min 37s\n"
     ]
    }
   ],
   "source": [
    "%%time\n",
    "\n",
    "if __name__ == '__main__':\n",
    "    with mp.Pool(8) as pool:\n",
    "        result = pool.starmap(experimental_variogram, diffusion_inputs)"
   ]
  },
  {
   "cell_type": "code",
   "execution_count": 39,
   "id": "1e975b82-c6ba-40ed-8cd8-78a1ca3ec33b",
   "metadata": {},
   "outputs": [
    {
     "data": {
      "text/plain": [
       "(100, 30)"
      ]
     },
     "execution_count": 39,
     "metadata": {},
     "output_type": "execute_result"
    }
   ],
   "source": [
    "diffusion_var = np.array(result)\n",
    "diffusion_var.shape"
   ]
  },
  {
   "cell_type": "markdown",
   "id": "5adaff40-210a-4935-bcae-02b93eb731c6",
   "metadata": {},
   "source": [
    "### DCGAN"
   ]
  },
  {
   "cell_type": "code",
   "execution_count": 36,
   "id": "a85834af-16c2-42ba-aab8-efc0ae3039c7",
   "metadata": {},
   "outputs": [
    {
     "name": "stdout",
     "output_type": "stream",
     "text": [
      "CPU times: total: 375 ms\n",
      "Wall time: 3min 37s\n"
     ]
    }
   ],
   "source": [
    "%%time\n",
    "\n",
    "if __name__ == '__main__':\n",
    "    with mp.Pool(8) as pool:\n",
    "        result = pool.starmap(experimental_variogram, dcgan_inputs)"
   ]
  },
  {
   "cell_type": "code",
   "execution_count": 39,
   "id": "9ce85615-043d-467c-829b-76e14e1779fe",
   "metadata": {},
   "outputs": [
    {
     "data": {
      "text/plain": [
       "(100, 30)"
      ]
     },
     "execution_count": 39,
     "metadata": {},
     "output_type": "execute_result"
    }
   ],
   "source": [
    "dcgan_var = np.array(result)\n",
    "dcgan_var.shape"
   ]
  },
  {
   "cell_type": "markdown",
   "id": "c49e5bff-ae7c-4855-a06d-4059a3bbf6ab",
   "metadata": {},
   "source": [
    "### Updated GAN"
   ]
  },
  {
   "cell_type": "code",
   "execution_count": 36,
   "id": "f2e29cec-c6df-4e28-b791-7f4a71a5353a",
   "metadata": {},
   "outputs": [
    {
     "name": "stdout",
     "output_type": "stream",
     "text": [
      "CPU times: total: 375 ms\n",
      "Wall time: 3min 37s\n"
     ]
    }
   ],
   "source": [
    "%%time\n",
    "\n",
    "if __name__ == '__main__':\n",
    "    with mp.Pool(8) as pool:\n",
    "        result = pool.starmap(experimental_variogram, gan_inputs)"
   ]
  },
  {
   "cell_type": "code",
   "execution_count": 39,
   "id": "d31d1b96-5c18-481c-aba6-037b29656ed3",
   "metadata": {},
   "outputs": [
    {
     "data": {
      "text/plain": [
       "(100, 30)"
      ]
     },
     "execution_count": 39,
     "metadata": {},
     "output_type": "execute_result"
    }
   ],
   "source": [
    "gan_var = np.array(result)\n",
    "gan_var.shape"
   ]
  },
  {
   "cell_type": "code",
   "execution_count": 23,
   "id": "c4b85f1a-06a9-4a03-8ef9-e7ca06eedb07",
   "metadata": {},
   "outputs": [],
   "source": [
    "vario = experimental_variogram(coord, sgs[0].flatten(), kwargs)"
   ]
  },
  {
   "cell_type": "code",
   "execution_count": 31,
   "id": "133fb0b2-ce7c-4571-b3ad-a6a861bbb86b",
   "metadata": {},
   "outputs": [
    {
     "data": {
      "text/plain": [
       "< spherical Semivariogram fitted to 30 bins >"
      ]
     },
     "execution_count": 31,
     "metadata": {},
     "output_type": "execute_result"
    }
   ],
   "source": [
    "vario"
   ]
  },
  {
   "cell_type": "code",
   "execution_count": 33,
   "id": "cd061597-b8cb-4905-bf01-59854f03923e",
   "metadata": {},
   "outputs": [
    {
     "data": {
      "text/plain": [
       "numpy.ndarray"
      ]
     },
     "execution_count": 33,
     "metadata": {},
     "output_type": "execute_result"
    }
   ],
   "source": [
    "type(vario.experimental)"
   ]
  },
  {
   "cell_type": "code",
   "execution_count": null,
   "id": "6a45d3a5-6ddc-46ef-85ed-cbe7dd22b7cd",
   "metadata": {},
   "outputs": [],
   "source": []
  }
 ],
 "metadata": {
  "kernelspec": {
   "display_name": "Python 3 (ipykernel)",
   "language": "python",
   "name": "python3"
  },
  "language_info": {
   "codemirror_mode": {
    "name": "ipython",
    "version": 3
   },
   "file_extension": ".py",
   "mimetype": "text/x-python",
   "name": "python",
   "nbconvert_exporter": "python",
   "pygments_lexer": "ipython3",
   "version": "3.10.10"
  }
 },
 "nbformat": 4,
 "nbformat_minor": 5
}
